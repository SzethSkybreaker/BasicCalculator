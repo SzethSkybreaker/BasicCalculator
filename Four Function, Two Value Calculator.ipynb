{
 "cells": [
  {
   "cell_type": "code",
   "execution_count": null,
   "id": "1c886a81",
   "metadata": {},
   "outputs": [
    {
     "name": "stdout",
     "output_type": "stream",
     "text": [
      "Enter [1] to multiply, [2] to divide, [3] to add, and [4] to subtract, or [5] to exit1\n",
      "Input two values multiply: 2 3\n",
      "6\n",
      "Enter [1] to multiply, [2] to divide, [3] to add, and [4] to subtract, or [5] to exit3\n",
      "Input two values to add: 4 5\n",
      "9\n",
      "Enter [1] to multiply, [2] to divide, [3] to add, and [4] to subtract, or [5] to exit2\n",
      "Input two values to divide: 10000 90\n",
      "111.11111111111111\n"
     ]
    }
   ],
   "source": [
    "x=0\n",
    "while x==0:\n",
    "    y = int(input(\"Enter [1] to multiply, [2] to divide, [3] to add, and [4] to subtract, or [5] to exit\"))\n",
    "    if (y == 5):\n",
    "        break\n",
    "    elif (y == 1):\n",
    "        a, b = input(\"Input two values multiply: \").split()\n",
    "        print(int(a)*int(b))\n",
    "    elif (y == 2):\n",
    "        a, b = input(\"Input two values to divide: \").split()\n",
    "        print(int(a)/int(b))\n",
    "    elif (y == 3):\n",
    "        a, b = input(\"Input two values to add: \").split()\n",
    "        print(int(a) + int(b))\n",
    "    elif (y == 4):\n",
    "        a, b = input(\"Input two values to subtract: \").split()\n",
    "        print(int(a) - int(b))\n",
    "    else:\n",
    "        print(\"Invalid input. Please enter 1, 2, 3, 4, or 5\")"
   ]
  },
  {
   "cell_type": "code",
   "execution_count": null,
   "id": "9b5a1c07",
   "metadata": {},
   "outputs": [],
   "source": []
  }
 ],
 "metadata": {
  "kernelspec": {
   "display_name": "Python 3 (ipykernel)",
   "language": "python",
   "name": "python3"
  },
  "language_info": {
   "codemirror_mode": {
    "name": "ipython",
    "version": 3
   },
   "file_extension": ".py",
   "mimetype": "text/x-python",
   "name": "python",
   "nbconvert_exporter": "python",
   "pygments_lexer": "ipython3",
   "version": "3.9.12"
  }
 },
 "nbformat": 4,
 "nbformat_minor": 5
}
